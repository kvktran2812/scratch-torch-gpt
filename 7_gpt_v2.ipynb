{
 "cells": [
  {
   "cell_type": "code",
   "execution_count": 1,
   "id": "d6d3aefe-8339-4aaa-942c-93686db48684",
   "metadata": {},
   "outputs": [],
   "source": [
    "import torch\n",
    "import torch.nn as nn\n",
    "from torch.nn import functional as F\n",
    "import math"
   ]
  },
  {
   "cell_type": "code",
   "execution_count": 2,
   "id": "75eaa01f-94e2-4471-a49e-2cc415d9e206",
   "metadata": {},
   "outputs": [],
   "source": [
    "class MultiHeadAttention(nn.Module):\n",
    "    def __init__(self, embedding_size, in_channels, n_heads, dropout=0.0):\n",
    "        super().__init__()\n",
    "        self.dropout = dropout\n",
    "        self.flash = hasattr(torch.nn.functional, 'scaled_dot_product_attention')\n",
    "        self.embedding_size = embedding_size\n",
    "        self.in_channels = in_channels\n",
    "        self.n_heads = n_heads\n",
    "        self.head_size = embedding_size // n_heads\n",
    "        \n",
    "        self.c_attn = nn.Linear(embedding_size, embedding_size * 3)\n",
    "        self.proj = nn.Linear(embedding_size, embedding_size)\n",
    "        self.attn_dropout = nn.Dropout(dropout)\n",
    "        self.ln_dropout = nn.Dropout(dropout)\n",
    "\n",
    "    def forward(self, x):\n",
    "        B, T, C = x.shape\n",
    "        q, k, v = self.c_attn(x).split(self.embedding_size, 2)\n",
    "        \n",
    "        q = q.view(B, T, self.n_heads, self.head_size).transpose(1, 2)\n",
    "        k = k.view(B, T, self.n_heads, self.head_size).transpose(1, 2)\n",
    "        v = v.view(B, T, self.n_heads, self.head_size).transpose(1, 2)\n",
    "\n",
    "        if self.flash:\n",
    "            value = torch.nn.functional.scaled_dot_product_attention(q, k, v, attn_mask=None, dropout_p=self.dropout if self.training else 0, is_causal=True)\n",
    "        else:\n",
    "            attn = q @ k.transpose(-2, -1) * (1 / math.sqrt(self.head_size))\n",
    "            attn = F.softmax(attn, dim=-1)\n",
    "            attn = self.attn_dropout(attn)\n",
    "            value = attn @ v\n",
    "        value = value.transpose(1, 2).contiguous().view(B, T, C)\n",
    "\n",
    "        value = self.proj(value)\n",
    "        value = self.ln_dropout(value)\n",
    "        return value"
   ]
  },
  {
   "cell_type": "code",
   "execution_count": 3,
   "id": "c273396e-86dc-4c48-a58c-9e512c61308c",
   "metadata": {},
   "outputs": [
    {
     "name": "stdout",
     "output_type": "stream",
     "text": [
      "torch.Size([1, 196, 512])\n"
     ]
    }
   ],
   "source": [
    "x = torch.randn(1, 196, 512)\n",
    "multi_head = MultiHeadAttention(512, 196, 16)\n",
    "x = multi_head(x)\n",
    "\n",
    "print(x.shape)"
   ]
  },
  {
   "cell_type": "code",
   "execution_count": null,
   "id": "0948ef7b-43b5-4886-9788-568a8eb1f287",
   "metadata": {},
   "outputs": [],
   "source": []
  }
 ],
 "metadata": {
  "kernelspec": {
   "display_name": "Python 3 (ipykernel)",
   "language": "python",
   "name": "python3"
  },
  "language_info": {
   "codemirror_mode": {
    "name": "ipython",
    "version": 3
   },
   "file_extension": ".py",
   "mimetype": "text/x-python",
   "name": "python",
   "nbconvert_exporter": "python",
   "pygments_lexer": "ipython3",
   "version": "3.11.7"
  }
 },
 "nbformat": 4,
 "nbformat_minor": 5
}
