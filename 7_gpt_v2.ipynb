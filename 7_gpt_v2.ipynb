{
 "cells": [
  {
   "cell_type": "code",
   "execution_count": 1,
   "id": "d6d3aefe-8339-4aaa-942c-93686db48684",
   "metadata": {},
   "outputs": [],
   "source": [
    "import torch\n",
    "import torch.nn as nn\n",
    "from torch.nn import functional as F\n",
    "import math"
   ]
  },
  {
   "cell_type": "code",
   "execution_count": 2,
   "id": "75eaa01f-94e2-4471-a49e-2cc415d9e206",
   "metadata": {},
   "outputs": [],
   "source": [
    "class MultiHeadAttention(nn.Module):\n",
    "    def __init__(self, embedding_size, in_channels, n_heads, dropout=0.0):\n",
    "        super().__init__()\n",
    "        self.dropout = dropout\n",
    "        self.flash = hasattr(torch.nn.functional, 'scaled_dot_product_attention')\n",
    "        self.embedding_size = embedding_size\n",
    "        self.in_channels = in_channels\n",
    "        self.n_heads = n_heads\n",
    "        self.head_size = embedding_size // n_heads\n",
    "        \n",
    "        self.c_attn = nn.Linear(embedding_size, embedding_size * 3)\n",
    "        self.proj = nn.Linear(embedding_size, embedding_size)\n",
    "        self.attn_dropout = nn.Dropout(dropout)\n",
    "        self.ln_dropout = nn.Dropout(dropout)\n",
    "\n",
    "    def forward(self, x):\n",
    "        B, T, C = x.shape\n",
    "        q, k, v = self.c_attn(x).split(self.embedding_size, 2)\n",
    "        \n",
    "        q = q.view(B, T, self.n_heads, self.head_size).transpose(1, 2)\n",
    "        k = k.view(B, T, self.n_heads, self.head_size).transpose(1, 2)\n",
    "        v = v.view(B, T, self.n_heads, self.head_size).transpose(1, 2)\n",
    "\n",
    "        if self.flash:\n",
    "            value = torch.nn.functional.scaled_dot_product_attention(q, k, v, attn_mask=None, dropout_p=self.dropout if self.training else 0, is_causal=True)\n",
    "        else:\n",
    "            attn = q @ k.transpose(-2, -1) * (1 / math.sqrt(self.head_size))\n",
    "            attn = F.softmax(attn, dim=-1)\n",
    "            attn = self.attn_dropout(attn)\n",
    "            value = attn @ v\n",
    "        value = value.transpose(1, 2).contiguous().view(B, T, C)\n",
    "\n",
    "        value = self.proj(value)\n",
    "        value = self.ln_dropout(value)\n",
    "        return value"
   ]
  },
  {
   "cell_type": "code",
   "execution_count": 3,
   "id": "47c642ac-ab3f-4b50-9243-9bb488e3bafb",
   "metadata": {},
   "outputs": [],
   "source": [
    "class FeedForward(nn.Module):\n",
    "    def __init__(self, in_channels, factor, dropout=0.0):\n",
    "        super().__init__()\n",
    "        self.relu = nn.ReLU()\n",
    "        self.ln1 = nn.Linear(in_channels, in_channels * factor)\n",
    "        self.ln2 = nn.Linear(in_channels * factor, in_channels)\n",
    "        self.dropout = nn.Dropout(dropout)\n",
    "    \n",
    "    def forward(self, x):\n",
    "        x = self.relu(self.ln1(x))\n",
    "        x = self.ln2(x)\n",
    "        x = self.dropout(x)\n",
    "        return x\n",
    "\n",
    "class Block(nn.Module):\n",
    "    def __init__(self, in_channels, embedding_size, n_heads, dropout=0.0):\n",
    "        super().__init__()\n",
    "        head_size = embedding_size // n_heads\n",
    "        self.multi_head_attn = MultiHeadAttention(embedding_size, in_channels, n_heads, dropout)\n",
    "        self.ffwd = FeedForward(embedding_size, 4, dropout)\n",
    "        self.ln1 = nn.LayerNorm(embedding_size)\n",
    "        self.ln2 = nn.LayerNorm(embedding_size)\n",
    "    \n",
    "    def forward(self, x):\n",
    "        x = x + self.multi_head_attn(self.ln1(x))\n",
    "        x = x + self.ffwd(self.ln2(x))\n",
    "        return x"
   ]
  },
  {
   "cell_type": "code",
   "execution_count": 4,
   "id": "29f606ff-9cf2-4d14-83bd-db5812c47435",
   "metadata": {},
   "outputs": [],
   "source": [
    "class GPT(nn.Module):\n",
    "    def __init__(self, in_channels, vocab_size, embedding_size, n_heads, n_layers, dropout=0.0):\n",
    "        super().__init__()\n",
    "        self.token_embedding_table = nn.Embedding(vocab_size, embedding_size)\n",
    "        self.position_embedding_table = nn.Embedding(in_channels, embedding_size)\n",
    "        self.blocks = nn.Sequential(*[Block(in_channels, embedding_size, n_heads) for _ in range(n_layers)])\n",
    "        self.ln_f = nn.LayerNorm(embedding_size)\n",
    "        self.lm_head = nn.Linear(embedding_size, vocab_size)\n",
    "        self.dropout = nn.Dropout(dropout)\n",
    "\n",
    "        # init all weights\n",
    "        self.apply(self._init_weights)\n",
    "        # apply special scaled init to the residual projections, per GPT-2 paper\n",
    "        for pn, p in self.named_parameters():\n",
    "            if pn.endswith('c_proj.weight'):\n",
    "                torch.nn.init.normal_(p, mean=0.0, std=0.02/math.sqrt(2 * config.n_layer))\n",
    "\n",
    "    def forward(self, x):\n",
    "        device = x.device\n",
    "        B,T = x.size()\n",
    "        pos = torch.arange(0, T, dtype=torch.long, device=device)\n",
    "        token_embedding = self.token_embedding_table(x)\n",
    "        pos_embedding = self.position_embedding_table(pos)\n",
    "        \n",
    "        x = self.dropout(token_embedding + pos_embedding)\n",
    "        x = self.blocks(x)\n",
    "        x = self.ln_f(x)\n",
    "        x = self.lm_head(x)\n",
    "        return x\n",
    "\n",
    "    def _init_weights(self, module):\n",
    "        if isinstance(module, nn.Linear):\n",
    "            torch.nn.init.normal_(module.weight, mean=0.0, std=0.02)\n",
    "            if module.bias is not None:\n",
    "                torch.nn.init.zeros_(module.bias)\n",
    "        elif isinstance(module, nn.Embedding):\n",
    "            torch.nn.init.normal_(module.weight, mean=0.0, std=0.02)"
   ]
  },
  {
   "cell_type": "code",
   "execution_count": 5,
   "id": "c273396e-86dc-4c48-a58c-9e512c61308c",
   "metadata": {},
   "outputs": [
    {
     "name": "stdout",
     "output_type": "stream",
     "text": [
      "torch.Size([1, 196])\n",
      "torch.Size([1, 196, 10000])\n"
     ]
    }
   ],
   "source": [
    "x = torch.randint(0, 10000, (1, 196), dtype=torch.long)\n",
    "print(x.shape)\n",
    "gpt = GPT(512, 10000, 512, 32, 6)\n",
    "x = gpt(x)\n",
    "print(x.shape)"
   ]
  },
  {
   "cell_type": "code",
   "execution_count": 6,
   "id": "ed468962-2a46-4c2e-abaf-badfcf2e2a57",
   "metadata": {},
   "outputs": [
    {
     "data": {
      "text/plain": [
       "29427472"
      ]
     },
     "execution_count": 6,
     "metadata": {},
     "output_type": "execute_result"
    }
   ],
   "source": [
    "sum(p.numel() for p in gpt.parameters())"
   ]
  },
  {
   "cell_type": "code",
   "execution_count": null,
   "id": "4a4ba348-3ed3-4076-b39c-cde49924c9cf",
   "metadata": {},
   "outputs": [],
   "source": []
  }
 ],
 "metadata": {
  "kernelspec": {
   "display_name": "Python 3 (ipykernel)",
   "language": "python",
   "name": "python3"
  },
  "language_info": {
   "codemirror_mode": {
    "name": "ipython",
    "version": 3
   },
   "file_extension": ".py",
   "mimetype": "text/x-python",
   "name": "python",
   "nbconvert_exporter": "python",
   "pygments_lexer": "ipython3",
   "version": "3.11.7"
  }
 },
 "nbformat": 4,
 "nbformat_minor": 5
}
