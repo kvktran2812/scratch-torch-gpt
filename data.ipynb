{
 "cells": [
  {
   "cell_type": "code",
   "execution_count": 1,
   "id": "88cc5a47-3b87-462a-b058-2a55f9829875",
   "metadata": {},
   "outputs": [],
   "source": [
    "from bs4 import BeautifulSoup\n",
    "import selenium\n",
    "import requests"
   ]
  },
  {
   "cell_type": "code",
   "execution_count": 2,
   "id": "995add28-cb8f-4050-9bc9-4b43bed873f1",
   "metadata": {},
   "outputs": [],
   "source": [
    "def get_poem_group_list(url):\n",
    "    # function variables\n",
    "    data = [] # data variable contains all poem info\n",
    "\n",
    "    # fetch url and web scraping to collect data\n",
    "    response = requests.get(main_url, headers=headers)\n",
    "    soup = BeautifulSoup(response.content, \"lxml\")\n",
    "    poem_group_list = soup.find(\"div\", {\"class\": \"poem-group-list\"}) # find div with class \"poem-group-list\" that contains all poems\n",
    "    poem_group_list = poem_group_list.find_all(\"li\") # get only the <li> element\n",
    "\n",
    "    # for each element in the poem_group_list, get the href and the text\n",
    "    # store the information in a dict and add to the data list\n",
    "    for poem in poem_group_list:\n",
    "        link = poem.find(\"a\")\n",
    "        data.append({\n",
    "            \"href\": thi_vien_url + link[\"href\"],\n",
    "            \"text\": link.text,\n",
    "        })\n",
    "\n",
    "    return data"
   ]
  },
  {
   "cell_type": "code",
   "execution_count": 3,
   "id": "9ef33e75-e297-44a1-a95a-7f6df3717e59",
   "metadata": {},
   "outputs": [
    {
     "name": "stdout",
     "output_type": "stream",
     "text": [
      "{'href': 'https://www.thivien.net/Nguy%E1%BB%85n-Du/H%E1%BB%93i-01-Gia-c%E1%BA%A3nh-h%E1%BB%8D-V%C6%B0%C6%A1ng/poem-rtqcmx_AOPu9MTr5fiqcsw', 'text': 'Hồi 01: Gia cảnh họ Vương'}\n"
     ]
    }
   ],
   "source": [
    "thi_vien_url = \"https://www.thivien.net\"\n",
    "main_url = \"https://www.thivien.net/Nguy%E1%BB%85n-Du/Truy%E1%BB%87n-Ki%E1%BB%81u/group-uAY7gIaARbh2b4DCVporPQ\"\n",
    "headers = {'User-Agent': 'Mozilla/5.0 (Windows NT 10.0; Win64; x64) AppleWebKit/537.36 (KHTML, like Gecko) Chrome/58.0.3029.110 Safari/537.3'}\n",
    "\n",
    "data = get_poem_group_list(main_url)\n",
    "print(data[0])"
   ]
  },
  {
   "cell_type": "code",
   "execution_count": null,
   "id": "fcceb70a-ae76-4826-871e-45914b94c814",
   "metadata": {},
   "outputs": [],
   "source": []
  },
  {
   "cell_type": "code",
   "execution_count": null,
   "id": "1fb88551-5a06-40ba-b4c9-49dc941337d6",
   "metadata": {},
   "outputs": [],
   "source": []
  }
 ],
 "metadata": {
  "kernelspec": {
   "display_name": "Python 3 (ipykernel)",
   "language": "python",
   "name": "python3"
  },
  "language_info": {
   "codemirror_mode": {
    "name": "ipython",
    "version": 3
   },
   "file_extension": ".py",
   "mimetype": "text/x-python",
   "name": "python",
   "nbconvert_exporter": "python",
   "pygments_lexer": "ipython3",
   "version": "3.11.7"
  }
 },
 "nbformat": 4,
 "nbformat_minor": 5
}
