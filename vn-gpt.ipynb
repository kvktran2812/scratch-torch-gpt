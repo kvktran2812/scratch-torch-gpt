{
 "cells": [
  {
   "cell_type": "code",
   "execution_count": 1,
   "id": "c940ccfe-573e-47a1-8a09-2f4d394d7e7a",
   "metadata": {},
   "outputs": [
    {
     "name": "stdout",
     "output_type": "stream",
     "text": [
      "Vocab size: 106\n",
      "Number of characters: 1279\n"
     ]
    }
   ],
   "source": [
    "with open('input_v2.txt', 'r', encoding='utf-8') as f:\n",
    "    text = f.read()\n",
    "\n",
    "chars = sorted(list(set(text)))\n",
    "vocab_size = len(chars)\n",
    "\n",
    "print(\"Vocab size:\", vocab_size)\n",
    "print(\"Number of characters:\", len(text))"
   ]
  },
  {
   "cell_type": "code",
   "execution_count": 3,
   "id": "c574928c-0df6-435f-bf17-cb1d0bf39f69",
   "metadata": {},
   "outputs": [
    {
     "name": "stdout",
     "output_type": "stream",
     "text": [
      "[14, 32, 85, 43, 1, 42, 31, 69, 35, 1, 34, 74, 36, 1, 30, 32, 98, 1, 42, 40, 70, 96, 27, 1, 66, 52, 36]\n",
      "Kiểu thơm lần giở trước đèn\n"
     ]
    }
   ],
   "source": [
    "stoi = { ch:i for i,ch in enumerate(chars) }\n",
    "itos = { i:ch for i,ch in enumerate(chars) }\n",
    "encode = lambda s: [stoi[c] for c in s] # encoder: take a string, output a list of integers\n",
    "decode = lambda l: ''.join([itos[i] for i in l]) # decoder: take a list of integers, output a string\n",
    "\n",
    "print(encode(\"Kiểu thơm lần giở trước đèn\"))\n",
    "print(decode(encode(\"Kiểu thơm lần giở trước đèn\")))"
   ]
  },
  {
   "cell_type": "code",
   "execution_count": null,
   "id": "5033cd42-7692-4cda-bba8-d7dd8669fa25",
   "metadata": {},
   "outputs": [],
   "source": []
  }
 ],
 "metadata": {
  "kernelspec": {
   "display_name": "Python 3 (ipykernel)",
   "language": "python",
   "name": "python3"
  },
  "language_info": {
   "codemirror_mode": {
    "name": "ipython",
    "version": 3
   },
   "file_extension": ".py",
   "mimetype": "text/x-python",
   "name": "python",
   "nbconvert_exporter": "python",
   "pygments_lexer": "ipython3",
   "version": "3.11.7"
  }
 },
 "nbformat": 4,
 "nbformat_minor": 5
}
