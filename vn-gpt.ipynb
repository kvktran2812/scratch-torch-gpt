{
 "cells": [
  {
   "cell_type": "code",
   "execution_count": 2,
   "id": "c940ccfe-573e-47a1-8a09-2f4d394d7e7a",
   "metadata": {},
   "outputs": [
    {
     "data": {
      "text/plain": [
       "'Trường Đại học Bách Khoa hà nội'"
      ]
     },
     "execution_count": 2,
     "metadata": {},
     "output_type": "execute_result"
    }
   ],
   "source": [
    "from pyvi import ViTokenizer, ViPosTagger\n",
    "\n",
    "ViTokenizer.tokenize(u\"Trường đại học bách khoa hà nội\")\n",
    "\n",
    "ViPosTagger.postagging(ViTokenizer.tokenize(u\"Trường đại học Bách Khoa Hà Nội\"))\n",
    "\n",
    "from pyvi import ViUtils\n",
    "ViUtils.remove_accents(u\"Trường đại học bách khoa hà nội\")\n",
    "\n",
    "from pyvi import ViUtils\n",
    "ViUtils.add_accents(u'truong dai hoc bach khoa ha noi')"
   ]
  },
  {
   "cell_type": "code",
   "execution_count": 3,
   "id": "3296dc1a-46d7-48bd-bf11-534b42e5674d",
   "metadata": {},
   "outputs": [
    {
     "data": {
      "text/plain": [
       "'Trường đại_học bách_khoa hà_nội'"
      ]
     },
     "execution_count": 3,
     "metadata": {},
     "output_type": "execute_result"
    }
   ],
   "source": [
    "ViTokenizer.tokenize(u\"Trường đại học bách khoa hà nội\")"
   ]
  },
  {
   "cell_type": "code",
   "execution_count": 4,
   "id": "125a7e48-1242-45c5-b5f4-7e637d087491",
   "metadata": {},
   "outputs": [
    {
     "data": {
      "text/plain": [
       "(['Trường', 'đại_học', 'Bách_Khoa', 'Hà_Nội'],\n",
       " array(['N', 'N', 'Np', 'Np'], dtype=object))"
      ]
     },
     "execution_count": 4,
     "metadata": {},
     "output_type": "execute_result"
    }
   ],
   "source": [
    "ViPosTagger.postagging(ViTokenizer.tokenize(u\"Trường đại học Bách Khoa Hà Nội\"))"
   ]
  },
  {
   "cell_type": "code",
   "execution_count": null,
   "id": "c574928c-0df6-435f-bf17-cb1d0bf39f69",
   "metadata": {},
   "outputs": [],
   "source": []
  }
 ],
 "metadata": {
  "kernelspec": {
   "display_name": "Python 3 (ipykernel)",
   "language": "python",
   "name": "python3"
  },
  "language_info": {
   "codemirror_mode": {
    "name": "ipython",
    "version": 3
   },
   "file_extension": ".py",
   "mimetype": "text/x-python",
   "name": "python",
   "nbconvert_exporter": "python",
   "pygments_lexer": "ipython3",
   "version": "3.11.7"
  }
 },
 "nbformat": 4,
 "nbformat_minor": 5
}
