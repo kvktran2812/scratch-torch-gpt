{
 "cells": [
  {
   "cell_type": "code",
   "execution_count": 1,
   "id": "88cc5a47-3b87-462a-b058-2a55f9829875",
   "metadata": {},
   "outputs": [],
   "source": [
    "from bs4 import BeautifulSoup\n",
    "import selenium\n",
    "import requests"
   ]
  },
  {
   "cell_type": "code",
   "execution_count": 19,
   "id": "b31c332f-46a2-4ad1-9db4-62ac61a602d8",
   "metadata": {},
   "outputs": [],
   "source": [
    "df = pd.read_csv(\"./input_v2.txt\",sep=\"/\", names=[\"row\"], encoding=\"utf8\").dropna()"
   ]
  },
  {
   "cell_type": "code",
   "execution_count": 20,
   "id": "3db20e12-05d8-4c80-b90a-14afbcb02dd3",
   "metadata": {},
   "outputs": [
    {
     "data": {
      "text/html": [
       "<div>\n",
       "<style scoped>\n",
       "    .dataframe tbody tr th:only-of-type {\n",
       "        vertical-align: middle;\n",
       "    }\n",
       "\n",
       "    .dataframe tbody tr th {\n",
       "        vertical-align: top;\n",
       "    }\n",
       "\n",
       "    .dataframe thead th {\n",
       "        text-align: right;\n",
       "    }\n",
       "</style>\n",
       "<table border=\"1\" class=\"dataframe\">\n",
       "  <thead>\n",
       "    <tr style=\"text-align: right;\">\n",
       "      <th></th>\n",
       "      <th>row</th>\n",
       "    </tr>\n",
       "  </thead>\n",
       "  <tbody>\n",
       "    <tr>\n",
       "      <th>0</th>\n",
       "      <td>Trăm năm trong cõi người ta,</td>\n",
       "    </tr>\n",
       "    <tr>\n",
       "      <th>1</th>\n",
       "      <td>Chữ tài chữ mệnh khéo là ghét nhau.</td>\n",
       "    </tr>\n",
       "    <tr>\n",
       "      <th>2</th>\n",
       "      <td>Trải qua một cuộc bể dâu,</td>\n",
       "    </tr>\n",
       "    <tr>\n",
       "      <th>3</th>\n",
       "      <td>Những điều trông thấy mà đau đớn lòng.</td>\n",
       "    </tr>\n",
       "    <tr>\n",
       "      <th>4</th>\n",
       "      <td>Lạ gì bỉ sắc tư phong,</td>\n",
       "    </tr>\n",
       "    <tr>\n",
       "      <th>5</th>\n",
       "      <td>Trời xanh quen thói má hồng đánh ghen.</td>\n",
       "    </tr>\n",
       "    <tr>\n",
       "      <th>6</th>\n",
       "      <td>Cảo thơm lần giở trước đèn,</td>\n",
       "    </tr>\n",
       "    <tr>\n",
       "      <th>7</th>\n",
       "      <td>Phong tình có lục còn truyền sử xanh.</td>\n",
       "    </tr>\n",
       "    <tr>\n",
       "      <th>8</th>\n",
       "      <td>Rằng năm Gia Tĩnh triều Minh,</td>\n",
       "    </tr>\n",
       "    <tr>\n",
       "      <th>9</th>\n",
       "      <td>Bốn phương phẳng lặng, hai kinh vững vàng.</td>\n",
       "    </tr>\n",
       "  </tbody>\n",
       "</table>\n",
       "</div>"
      ],
      "text/plain": [
       "                                          row\n",
       "0                Trăm năm trong cõi người ta,\n",
       "1         Chữ tài chữ mệnh khéo là ghét nhau.\n",
       "2                   Trải qua một cuộc bể dâu,\n",
       "3      Những điều trông thấy mà đau đớn lòng.\n",
       "4                      Lạ gì bỉ sắc tư phong,\n",
       "5      Trời xanh quen thói má hồng đánh ghen.\n",
       "6                 Cảo thơm lần giở trước đèn,\n",
       "7       Phong tình có lục còn truyền sử xanh.\n",
       "8               Rằng năm Gia Tĩnh triều Minh,\n",
       "9  Bốn phương phẳng lặng, hai kinh vững vàng."
      ]
     },
     "execution_count": 20,
     "metadata": {},
     "output_type": "execute_result"
    }
   ],
   "source": [
    "def transform_row(row):\n",
    "    # row = row.encode(\"utf-8\")\n",
    "    row = re.sub(r\"^[0-9\\.]+\", \"\", row)\n",
    "    row = re.sub(r\"^[\\.,\\?]+\", \"\", row)\n",
    "    \n",
    "    row = row.strip()\n",
    "    return row \n",
    "\n",
    "df[\"row\"] = df.row.apply(transform_row)\n",
    "df.head(10)"
   ]
  },
  {
   "cell_type": "code",
   "execution_count": 22,
   "id": "a68e7c80-b842-46d2-b9d8-4e795fff13b3",
   "metadata": {},
   "outputs": [
    {
     "name": "stdout",
     "output_type": "stream",
     "text": [
      "Successfully save clean version of Truyen Kieu\n"
     ]
    }
   ],
   "source": [
    "output_file = \"truyen_kieu_clean.txt\"\n",
    "with open(output_file, \"w\", encoding='utf-8') as f:\n",
    "    for row in df[\"row\"]:\n",
    "        f.write(row + '\\n')\n",
    "    f.close()\n",
    "\n",
    "print(\"Successfully save clean version of Truyen Kieu\")"
   ]
  },
  {
   "cell_type": "code",
   "execution_count": null,
   "id": "b02094e7-6725-4e8b-8e9d-2fc8ac281e31",
   "metadata": {},
   "outputs": [],
   "source": []
  }
 ],
 "metadata": {
  "kernelspec": {
   "display_name": "Python 3 (ipykernel)",
   "language": "python",
   "name": "python3"
  },
  "language_info": {
   "codemirror_mode": {
    "name": "ipython",
    "version": 3
   },
   "file_extension": ".py",
   "mimetype": "text/x-python",
   "name": "python",
   "nbconvert_exporter": "python",
   "pygments_lexer": "ipython3",
   "version": "3.11.7"
  }
 },
 "nbformat": 4,
 "nbformat_minor": 5
}
