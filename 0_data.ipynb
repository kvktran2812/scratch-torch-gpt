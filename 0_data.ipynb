{
 "cells": [
  {
   "cell_type": "code",
   "execution_count": 1,
   "id": "88cc5a47-3b87-462a-b058-2a55f9829875",
   "metadata": {},
   "outputs": [],
   "source": [
    "import torch\n",
    "import torch.nn as nn\n",
    "from torch.nn import functional as F\n",
    "from script.gpt import GPT\n",
    "from script.gpt_utils import beautiful_print"
   ]
  },
  {
   "cell_type": "code",
   "execution_count": 2,
   "id": "b31c332f-46a2-4ad1-9db4-62ac61a602d8",
   "metadata": {},
   "outputs": [
    {
     "name": "stdout",
     "output_type": "stream",
     "text": [
      "Vocab size: 129\n",
      "Number of characters: 104804\n"
     ]
    }
   ],
   "source": [
    "with open('data/truyen_kieu_clean.txt', 'r', encoding='utf-8') as f:\n",
    "    text = f.read()\n",
    "\n",
    "chars = sorted(list(set(text)))\n",
    "vocab_size = len(chars)\n",
    "\n",
    "print(\"Vocab size:\", vocab_size)\n",
    "print(\"Number of characters:\", len(text))"
   ]
  },
  {
   "cell_type": "code",
   "execution_count": 3,
   "id": "5658ffda-74e3-45b3-ae7c-229fd9dbbf66",
   "metadata": {},
   "outputs": [
    {
     "ename": "NameError",
     "evalue": "name 'encode' is not defined",
     "output_type": "error",
     "traceback": [
      "\u001b[1;31m---------------------------------------------------------------------------\u001b[0m",
      "\u001b[1;31mNameError\u001b[0m                                 Traceback (most recent call last)",
      "Cell \u001b[1;32mIn[3], line 12\u001b[0m\n\u001b[0;32m      4\u001b[0m decoder \u001b[38;5;241m=\u001b[39m \u001b[38;5;28;01mlambda\u001b[39;00m l: \u001b[38;5;124m'\u001b[39m\u001b[38;5;124m'\u001b[39m\u001b[38;5;241m.\u001b[39mjoin([itos[i] \u001b[38;5;28;01mfor\u001b[39;00m i \u001b[38;5;129;01min\u001b[39;00m l]) \u001b[38;5;66;03m# decoder: take a list of integers, output a string\u001b[39;00m\n\u001b[0;32m      6\u001b[0m test_text \u001b[38;5;241m=\u001b[39m \u001b[38;5;124m\"\"\"\u001b[39m\n\u001b[0;32m      7\u001b[0m \u001b[38;5;124mTrăm năm trong cõi người ta,\u001b[39m\n\u001b[0;32m      8\u001b[0m \u001b[38;5;124mChữ tài chữ mệnh khéo là ghét nhau.\u001b[39m\n\u001b[0;32m      9\u001b[0m \u001b[38;5;124mTrải qua một cuộc bể dâu,\u001b[39m\n\u001b[0;32m     10\u001b[0m \u001b[38;5;124mNhững điều trông thấy mà đau đớn lòng.\u001b[39m\n\u001b[0;32m     11\u001b[0m \u001b[38;5;124m\"\"\"\u001b[39m\n\u001b[1;32m---> 12\u001b[0m \u001b[38;5;28mprint\u001b[39m(\u001b[43mencode\u001b[49m(test_text))\n\u001b[0;32m     13\u001b[0m \u001b[38;5;28mprint\u001b[39m(decode(encode(test_text)))\n",
      "\u001b[1;31mNameError\u001b[0m: name 'encode' is not defined"
     ]
    }
   ],
   "source": [
    "stoi = { ch:i for i,ch in enumerate(chars) }\n",
    "itos = { i:ch for i,ch in enumerate(chars) }\n",
    "encoder = lambda s: [stoi[c] for c in s] # encoder: take a string, output a list of integers\n",
    "decoder = lambda l: ''.join([itos[i] for i in l]) # decoder: take a list of integers, output a string\n",
    "\n",
    "test_text = \"\"\"\n",
    "Trăm năm trong cõi người ta,\n",
    "Chữ tài chữ mệnh khéo là ghét nhau.\n",
    "Trải qua một cuộc bể dâu,\n",
    "Những điều trông thấy mà đau đớn lòng.\n",
    "\"\"\"\n",
    "print(encode(test_text))\n",
    "print(decode(encode(test_text)))"
   ]
  },
  {
   "cell_type": "code",
   "execution_count": null,
   "id": "1a4c152f-3c1f-4885-a95a-a532e5ea683b",
   "metadata": {},
   "outputs": [],
   "source": [
    "data = torch.tensor(encode(text), dtype=torch.long)\n",
    "n = int(0.9*len(data))\n",
    "train_data = data[:n]\n",
    "val_data = data[n:]"
   ]
  },
  {
   "cell_type": "code",
   "execution_count": null,
   "id": "b02094e7-6725-4e8b-8e9d-2fc8ac281e31",
   "metadata": {},
   "outputs": [],
   "source": [
    "def get_train_batch(train_data, batch_size:int = 64, block_size: int = 32):\n",
    "    idx = torch.randint(len(train_data) - block_size, (batch_size, ))\n",
    "    x = torch.stack([train_data[i:i+block_size] for i in idx])\n",
    "    y = torch.stack([train_data[i+1:i+block_size+1] for i in idx])\n",
    "    return x, y"
   ]
  },
  {
   "cell_type": "code",
   "execution_count": null,
   "id": "081b5353-f93e-4a9e-a8c4-18db4abad972",
   "metadata": {},
   "outputs": [],
   "source": [
    "torch.backends.cuda.matmul.allow_tf32 = True\n",
    "torch.backends.cuda.enable_flash_sdp(True)\n",
    "\n",
    "print(torch.backends.cuda.matmul.allow_tf32)  # Should print True\n",
    "print(torch.cuda.is_available())  # Should print True if CUDA is available\n",
    "print(torch.__version__)  # Check your PyTorch version\n",
    "print(torch.version.cuda)  # Check the CUDA version PyTorch was built with\n",
    "print(torch.backends.cudnn.version())  # Check the cuDNN version"
   ]
  },
  {
   "cell_type": "code",
   "execution_count": null,
   "id": "c54e300f-cd45-45b9-8abd-6a111e03ea95",
   "metadata": {},
   "outputs": [],
   "source": []
  }
 ],
 "metadata": {
  "kernelspec": {
   "display_name": "Python 3 (ipykernel)",
   "language": "python",
   "name": "python3"
  },
  "language_info": {
   "codemirror_mode": {
    "name": "ipython",
    "version": 3
   },
   "file_extension": ".py",
   "mimetype": "text/x-python",
   "name": "python",
   "nbconvert_exporter": "python",
   "pygments_lexer": "ipython3",
   "version": "3.11.7"
  }
 },
 "nbformat": 4,
 "nbformat_minor": 5
}
