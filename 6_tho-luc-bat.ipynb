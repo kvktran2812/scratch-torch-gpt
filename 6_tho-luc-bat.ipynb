{
 "cells": [
  {
   "cell_type": "code",
   "execution_count": 1,
   "id": "4a8cb4f1-12df-47db-b87f-8f4e4015b4ab",
   "metadata": {},
   "outputs": [],
   "source": [
    "import pandas as pd"
   ]
  },
  {
   "cell_type": "code",
   "execution_count": 2,
   "id": "4fe44ea5-71aa-4905-9840-d7a86a2acea0",
   "metadata": {},
   "outputs": [],
   "source": [
    "df = pd.read_parquet(\"hf://datasets/truongpdd/luc-bat/data/train-00000-of-00001.parquet\")"
   ]
  },
  {
   "cell_type": "code",
   "execution_count": 4,
   "id": "a11b1153-c3a4-481e-960f-bcfd6ec6b266",
   "metadata": {},
   "outputs": [
    {
     "data": {
      "text/html": [
       "<div>\n",
       "<style scoped>\n",
       "    .dataframe tbody tr th:only-of-type {\n",
       "        vertical-align: middle;\n",
       "    }\n",
       "\n",
       "    .dataframe tbody tr th {\n",
       "        vertical-align: top;\n",
       "    }\n",
       "\n",
       "    .dataframe thead th {\n",
       "        text-align: right;\n",
       "    }\n",
       "</style>\n",
       "<table border=\"1\" class=\"dataframe\">\n",
       "  <thead>\n",
       "    <tr style=\"text-align: right;\">\n",
       "      <th></th>\n",
       "      <th>text</th>\n",
       "    </tr>\n",
       "  </thead>\n",
       "  <tbody>\n",
       "    <tr>\n",
       "      <th>0</th>\n",
       "      <td>ai ơi xa bến quê hương\\nnhớ về quê mẹ nắng sươ...</td>\n",
       "    </tr>\n",
       "    <tr>\n",
       "      <th>1</th>\n",
       "      <td>mùa đông để mộng nằm im\\nbao nhiêu nỗi nhớ biế...</td>\n",
       "    </tr>\n",
       "    <tr>\n",
       "      <th>2</th>\n",
       "      <td>nhớ em sao nhớ thế này\\nđi đâu cũng muốn về ng...</td>\n",
       "    </tr>\n",
       "    <tr>\n",
       "      <th>3</th>\n",
       "      <td>một mình qua phố nửa đêm\\nđường khuya vắng lặn...</td>\n",
       "    </tr>\n",
       "    <tr>\n",
       "      <th>4</th>\n",
       "      <td>ở miền biên ải vùng cao\\nxa xôi cách trở cồn c...</td>\n",
       "    </tr>\n",
       "    <tr>\n",
       "      <th>5</th>\n",
       "      <td>nằm nghe tiếng thánh thót mưa\\nđến khi chợp mắ...</td>\n",
       "    </tr>\n",
       "    <tr>\n",
       "      <th>6</th>\n",
       "      <td>trời trưa nắng đã ngả màu\\ndưới đất nắng chảy ...</td>\n",
       "    </tr>\n",
       "    <tr>\n",
       "      <th>7</th>\n",
       "      <td>người ơi vỗ ngực làm chi\\ncòn quan chút chức h...</td>\n",
       "    </tr>\n",
       "    <tr>\n",
       "      <th>8</th>\n",
       "      <td>có người không thích mùa đông\\nriêng tôi tôi đ...</td>\n",
       "    </tr>\n",
       "    <tr>\n",
       "      <th>9</th>\n",
       "      <td>hôm nay hai mươi tháng mười\\ntặng cho ai đó mộ...</td>\n",
       "    </tr>\n",
       "  </tbody>\n",
       "</table>\n",
       "</div>"
      ],
      "text/plain": [
       "                                                text\n",
       "0  ai ơi xa bến quê hương\\nnhớ về quê mẹ nắng sươ...\n",
       "1  mùa đông để mộng nằm im\\nbao nhiêu nỗi nhớ biế...\n",
       "2  nhớ em sao nhớ thế này\\nđi đâu cũng muốn về ng...\n",
       "3  một mình qua phố nửa đêm\\nđường khuya vắng lặn...\n",
       "4  ở miền biên ải vùng cao\\nxa xôi cách trở cồn c...\n",
       "5  nằm nghe tiếng thánh thót mưa\\nđến khi chợp mắ...\n",
       "6  trời trưa nắng đã ngả màu\\ndưới đất nắng chảy ...\n",
       "7  người ơi vỗ ngực làm chi\\ncòn quan chút chức h...\n",
       "8  có người không thích mùa đông\\nriêng tôi tôi đ...\n",
       "9  hôm nay hai mươi tháng mười\\ntặng cho ai đó mộ..."
      ]
     },
     "execution_count": 4,
     "metadata": {},
     "output_type": "execute_result"
    }
   ],
   "source": [
    "df.head(10)"
   ]
  },
  {
   "cell_type": "code",
   "execution_count": null,
   "id": "8d20edee-2b48-4e99-943e-808b9e556e4d",
   "metadata": {},
   "outputs": [],
   "source": []
  }
 ],
 "metadata": {
  "kernelspec": {
   "display_name": "Python 3 (ipykernel)",
   "language": "python",
   "name": "python3"
  },
  "language_info": {
   "codemirror_mode": {
    "name": "ipython",
    "version": 3
   },
   "file_extension": ".py",
   "mimetype": "text/x-python",
   "name": "python",
   "nbconvert_exporter": "python",
   "pygments_lexer": "ipython3",
   "version": "3.11.7"
  }
 },
 "nbformat": 4,
 "nbformat_minor": 5
}
