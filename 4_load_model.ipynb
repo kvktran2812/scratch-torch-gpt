{
 "cells": [
  {
   "cell_type": "code",
   "execution_count": 3,
   "id": "f535e6bc-b4e8-4e76-9b5c-b5707ef90956",
   "metadata": {},
   "outputs": [],
   "source": [
    "import torch\n",
    "import torch.nn as nn\n",
    "from torch.nn import functional as F\n",
    "from script.gpt import GPT\n",
    "from script.gpt_utils import *\n",
    "from safetensors.torch import save_file"
   ]
  },
  {
   "cell_type": "code",
   "execution_count": 4,
   "id": "4adad48a-371a-4aac-8c6d-857e027e37d5",
   "metadata": {},
   "outputs": [
    {
     "name": "stdout",
     "output_type": "stream",
     "text": [
      "Vocab size: 129\n",
      "Number of characters: 104804\n"
     ]
    }
   ],
   "source": [
    "PATH = \"checkpoints/checkpoint_final.pth\"\n",
    "\n",
    "# Preparation phase\n",
    "chars, text, vocab_size = load_truyen_kieu_dataset()\n",
    "encoder, decoder = load_encoder_decoder(chars)\n",
    "\n",
    "model = GPT(512, vocab_size, 512, 32, 6)\n",
    "model.load_state_dict(torch.load(PATH, weights_only=True))\n",
    "model.eval()\n",
    "\n",
    "# Save model as safetensors\n",
    "save_file(model.state_dict(), \"checkpoints/truyen_kieu_gpt.safetensors\")"
   ]
  },
  {
   "cell_type": "code",
   "execution_count": 5,
   "id": "62a8a4e8-729d-447f-9ffd-eb942af0ae83",
   "metadata": {},
   "outputs": [
    {
     "name": "stdout",
     "output_type": "stream",
     "text": [
      "Vì kinh bà đã lẽo nguẽ cân may già.\n",
      "Cửa quanh chường riêng thị sành,\n",
      "Đã trôi thay luốn hoa trầm sơ ngoài.\n",
      "Trước sao sang quằn sinh thiệt, thôi quỷ thường.\n",
      "Vốn lời chị ấy xy dệnh chàng ai chưa giọt bài"
     ]
    }
   ],
   "source": [
    "device = \"cuda\" if torch.cuda.is_available() else \"cpu\"\n",
    "model = model.to(device)\n",
    "beautiful_print(model, decoder, 200, device=device)"
   ]
  },
  {
   "cell_type": "code",
   "execution_count": 6,
   "id": "268a77c1-5b02-4df9-bcc4-e3179c46eff7",
   "metadata": {},
   "outputs": [],
   "source": [
    "def make_sentence(model, n_words: int = 6):\n",
    "    \n",
    "    return\n",
    "\n",
    "def make_poem(model, n_sentences: int = 8):\n",
    "    word_count = 0\n",
    "    max_word = 6\n",
    "    sentence = 0\n",
    "    "
   ]
  },
  {
   "cell_type": "code",
   "execution_count": 57,
   "id": "4672ad6d-9e93-4849-b6ad-d688d58ceed3",
   "metadata": {},
   "outputs": [],
   "source": [
    "block_size = 32\n",
    "temperature = 1.0\n",
    "idx = torch.zeros((1, 1), dtype=torch.long, device=device)\n",
    "idx_next = torch.zeros((1, 1), dtype=torch.long, device=device)\n",
    "n_words = 0\n",
    "\n",
    "while decoder(idx_next[0].tolist()) != \" \" or n_words < 6:\n",
    "    idx_cond = idx if idx.size(1) <= block_size else idx[:, -block_size:]\n",
    "    logits, _ = model(idx_cond)\n",
    "    logits = logits[:, -1, :] / temperature\n",
    "    probs = F.softmax(logits, dim=-1)\n",
    "    idx_next = torch.multinomial(probs, num_samples=1)\n",
    "    idx = torch.cat((idx, idx_next), dim=1)\n",
    "\n",
    "    if decoder(idx_next[0].tolist()) == \" \":\n",
    "        n_words += 1"
   ]
  },
  {
   "cell_type": "code",
   "execution_count": 58,
   "id": "9904b435-5f9c-4e11-a1e4-8b26cb2df0d2",
   "metadata": {},
   "outputs": [
    {
     "name": "stdout",
     "output_type": "stream",
     "text": [
      "\n",
      "Người thờ mà sắc đong vàng.\n",
      "Nỗi \n"
     ]
    }
   ],
   "source": [
    "print(decoder(idx[0].tolist()))"
   ]
  },
  {
   "cell_type": "code",
   "execution_count": 45,
   "id": "85550574-2cac-4165-a281-8f735ef07885",
   "metadata": {},
   "outputs": [
    {
     "data": {
      "text/plain": [
       "tensor([[ 0, 22, 38, 89, 49,  1]], device='cuda:0')"
      ]
     },
     "execution_count": 45,
     "metadata": {},
     "output_type": "execute_result"
    }
   ],
   "source": [
    "idx"
   ]
  },
  {
   "cell_type": "code",
   "execution_count": 46,
   "id": "fc7df61f-97e5-4142-beea-fc1e2a09f2b1",
   "metadata": {},
   "outputs": [
    {
     "data": {
      "text/plain": [
       "1"
      ]
     },
     "execution_count": 46,
     "metadata": {},
     "output_type": "execute_result"
    }
   ],
   "source": [
    "n_words"
   ]
  },
  {
   "cell_type": "code",
   "execution_count": null,
   "id": "ecf9daab-ff19-43c9-b087-95e0b39e54af",
   "metadata": {},
   "outputs": [],
   "source": []
  }
 ],
 "metadata": {
  "kernelspec": {
   "display_name": "Python 3 (ipykernel)",
   "language": "python",
   "name": "python3"
  },
  "language_info": {
   "codemirror_mode": {
    "name": "ipython",
    "version": 3
   },
   "file_extension": ".py",
   "mimetype": "text/x-python",
   "name": "python",
   "nbconvert_exporter": "python",
   "pygments_lexer": "ipython3",
   "version": "3.11.7"
  }
 },
 "nbformat": 4,
 "nbformat_minor": 5
}
